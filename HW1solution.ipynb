{
 "cells": [
  {
   "cell_type": "code",
   "execution_count": 65,
   "id": "785f17b1",
   "metadata": {},
   "outputs": [],
   "source": [
    "import numpy as np\n",
    "import pandas as pd\n",
    "\n",
    "from sklearn.model_selection import train_test_split\n",
    "from sklearn.linear_model import SGDClassifier\n",
    "from sklearn.model_selection import cross_val_score\n",
    "from sklearn.metrics import confusion_matrix\n",
    "from sklearn.metrics import plot_confusion_matrix"
   ]
  },
  {
   "cell_type": "markdown",
   "id": "17f61f41",
   "metadata": {},
   "source": [
    "1. Download data"
   ]
  },
  {
   "cell_type": "code",
   "execution_count": 115,
   "id": "3cb20b8b",
   "metadata": {},
   "outputs": [
    {
     "data": {
      "text/html": [
       "<div>\n",
       "<style scoped>\n",
       "    .dataframe tbody tr th:only-of-type {\n",
       "        vertical-align: middle;\n",
       "    }\n",
       "\n",
       "    .dataframe tbody tr th {\n",
       "        vertical-align: top;\n",
       "    }\n",
       "\n",
       "    .dataframe thead th {\n",
       "        text-align: right;\n",
       "    }\n",
       "</style>\n",
       "<table border=\"1\" class=\"dataframe\">\n",
       "  <thead>\n",
       "    <tr style=\"text-align: right;\">\n",
       "      <th></th>\n",
       "      <th>Text</th>\n",
       "      <th>language</th>\n",
       "    </tr>\n",
       "  </thead>\n",
       "  <tbody>\n",
       "    <tr>\n",
       "      <th>0</th>\n",
       "      <td>klement gottwaldi surnukeha palsameeriti ning ...</td>\n",
       "      <td>Estonian</td>\n",
       "    </tr>\n",
       "    <tr>\n",
       "      <th>1</th>\n",
       "      <td>sebes joseph pereira thomas  på eng the jesuit...</td>\n",
       "      <td>Swedish</td>\n",
       "    </tr>\n",
       "    <tr>\n",
       "      <th>2</th>\n",
       "      <td>ถนนเจริญกรุง อักษรโรมัน thanon charoen krung เ...</td>\n",
       "      <td>Thai</td>\n",
       "    </tr>\n",
       "    <tr>\n",
       "      <th>3</th>\n",
       "      <td>விசாகப்பட்டினம் தமிழ்ச்சங்கத்தை இந்துப் பத்திர...</td>\n",
       "      <td>Tamil</td>\n",
       "    </tr>\n",
       "    <tr>\n",
       "      <th>4</th>\n",
       "      <td>de spons behoort tot het geslacht haliclona en...</td>\n",
       "      <td>Dutch</td>\n",
       "    </tr>\n",
       "  </tbody>\n",
       "</table>\n",
       "</div>"
      ],
      "text/plain": [
       "                                                Text  language\n",
       "0  klement gottwaldi surnukeha palsameeriti ning ...  Estonian\n",
       "1  sebes joseph pereira thomas  på eng the jesuit...   Swedish\n",
       "2  ถนนเจริญกรุง อักษรโรมัน thanon charoen krung เ...      Thai\n",
       "3  விசாகப்பட்டினம் தமிழ்ச்சங்கத்தை இந்துப் பத்திர...     Tamil\n",
       "4  de spons behoort tot het geslacht haliclona en...     Dutch"
      ]
     },
     "execution_count": 115,
     "metadata": {},
     "output_type": "execute_result"
    }
   ],
   "source": [
    "df = pd.read_csv(\"dataset.csv\", encoding = 'utf_8')\n",
    "pd.read_csv(\"https://raw.githubusercontent.com/iad34/seminars/master/materials/data_sem1.csv\", sep=\";\")\n",
    "df.head()"
   ]
  },
  {
   "cell_type": "markdown",
   "id": "46363564",
   "metadata": {},
   "source": [
    "2. Choose records with languages of the interest"
   ]
  },
  {
   "cell_type": "code",
   "execution_count": 116,
   "id": "f3d8abef",
   "metadata": {},
   "outputs": [
    {
     "data": {
      "text/html": [
       "<div>\n",
       "<style scoped>\n",
       "    .dataframe tbody tr th:only-of-type {\n",
       "        vertical-align: middle;\n",
       "    }\n",
       "\n",
       "    .dataframe tbody tr th {\n",
       "        vertical-align: top;\n",
       "    }\n",
       "\n",
       "    .dataframe thead th {\n",
       "        text-align: right;\n",
       "    }\n",
       "</style>\n",
       "<table border=\"1\" class=\"dataframe\">\n",
       "  <thead>\n",
       "    <tr style=\"text-align: right;\">\n",
       "      <th></th>\n",
       "      <th>Text</th>\n",
       "      <th>language</th>\n",
       "    </tr>\n",
       "  </thead>\n",
       "  <tbody>\n",
       "    <tr>\n",
       "      <th>21</th>\n",
       "      <td>en navidad de  poco después de que interpretó ...</td>\n",
       "      <td>Spanish</td>\n",
       "    </tr>\n",
       "    <tr>\n",
       "      <th>37</th>\n",
       "      <td>in  johnson was awarded an american institute ...</td>\n",
       "      <td>English</td>\n",
       "    </tr>\n",
       "    <tr>\n",
       "      <th>40</th>\n",
       "      <td>bussy-saint-georges has built its identity on ...</td>\n",
       "      <td>English</td>\n",
       "    </tr>\n",
       "    <tr>\n",
       "      <th>76</th>\n",
       "      <td>minnesotas state parks are spread across the s...</td>\n",
       "      <td>English</td>\n",
       "    </tr>\n",
       "    <tr>\n",
       "      <th>90</th>\n",
       "      <td>nordahl road is a station served by north coun...</td>\n",
       "      <td>English</td>\n",
       "    </tr>\n",
       "  </tbody>\n",
       "</table>\n",
       "</div>"
      ],
      "text/plain": [
       "                                                 Text language\n",
       "21  en navidad de  poco después de que interpretó ...  Spanish\n",
       "37  in  johnson was awarded an american institute ...  English\n",
       "40  bussy-saint-georges has built its identity on ...  English\n",
       "76  minnesotas state parks are spread across the s...  English\n",
       "90  nordahl road is a station served by north coun...  English"
      ]
     },
     "execution_count": 116,
     "metadata": {},
     "output_type": "execute_result"
    }
   ],
   "source": [
    "df = df[df.language.isin(['Spanish', 'English'])]\n",
    "df.head()"
   ]
  },
  {
   "cell_type": "markdown",
   "id": "b12dab9f",
   "metadata": {},
   "source": [
    "3. Calculate counts for letters in each text"
   ]
  },
  {
   "cell_type": "code",
   "execution_count": 117,
   "id": "c586bc1c",
   "metadata": {},
   "outputs": [
    {
     "data": {
      "text/html": [
       "<div>\n",
       "<style scoped>\n",
       "    .dataframe tbody tr th:only-of-type {\n",
       "        vertical-align: middle;\n",
       "    }\n",
       "\n",
       "    .dataframe tbody tr th {\n",
       "        vertical-align: top;\n",
       "    }\n",
       "\n",
       "    .dataframe thead th {\n",
       "        text-align: right;\n",
       "    }\n",
       "</style>\n",
       "<table border=\"1\" class=\"dataframe\">\n",
       "  <thead>\n",
       "    <tr style=\"text-align: right;\">\n",
       "      <th></th>\n",
       "      <th>Text</th>\n",
       "      <th>language</th>\n",
       "      <th>a</th>\n",
       "      <th>b</th>\n",
       "      <th>c</th>\n",
       "      <th>d</th>\n",
       "      <th>e</th>\n",
       "      <th>f</th>\n",
       "      <th>g</th>\n",
       "      <th>h</th>\n",
       "      <th>...</th>\n",
       "      <th>q</th>\n",
       "      <th>r</th>\n",
       "      <th>s</th>\n",
       "      <th>t</th>\n",
       "      <th>u</th>\n",
       "      <th>v</th>\n",
       "      <th>w</th>\n",
       "      <th>x</th>\n",
       "      <th>y</th>\n",
       "      <th>z</th>\n",
       "    </tr>\n",
       "  </thead>\n",
       "  <tbody>\n",
       "    <tr>\n",
       "      <th>21</th>\n",
       "      <td>en navidad de  poco después de que interpretó ...</td>\n",
       "      <td>Spanish</td>\n",
       "      <td>24</td>\n",
       "      <td>1</td>\n",
       "      <td>8</td>\n",
       "      <td>12</td>\n",
       "      <td>22</td>\n",
       "      <td>1</td>\n",
       "      <td>2</td>\n",
       "      <td>1</td>\n",
       "      <td>...</td>\n",
       "      <td>2</td>\n",
       "      <td>13</td>\n",
       "      <td>6</td>\n",
       "      <td>5</td>\n",
       "      <td>6</td>\n",
       "      <td>2</td>\n",
       "      <td>0</td>\n",
       "      <td>0</td>\n",
       "      <td>1</td>\n",
       "      <td>0</td>\n",
       "    </tr>\n",
       "    <tr>\n",
       "      <th>37</th>\n",
       "      <td>in  johnson was awarded an american institute ...</td>\n",
       "      <td>English</td>\n",
       "      <td>16</td>\n",
       "      <td>1</td>\n",
       "      <td>9</td>\n",
       "      <td>5</td>\n",
       "      <td>20</td>\n",
       "      <td>3</td>\n",
       "      <td>2</td>\n",
       "      <td>8</td>\n",
       "      <td>...</td>\n",
       "      <td>0</td>\n",
       "      <td>15</td>\n",
       "      <td>8</td>\n",
       "      <td>19</td>\n",
       "      <td>4</td>\n",
       "      <td>0</td>\n",
       "      <td>3</td>\n",
       "      <td>0</td>\n",
       "      <td>0</td>\n",
       "      <td>2</td>\n",
       "    </tr>\n",
       "    <tr>\n",
       "      <th>40</th>\n",
       "      <td>bussy-saint-georges has built its identity on ...</td>\n",
       "      <td>English</td>\n",
       "      <td>15</td>\n",
       "      <td>2</td>\n",
       "      <td>6</td>\n",
       "      <td>8</td>\n",
       "      <td>31</td>\n",
       "      <td>3</td>\n",
       "      <td>7</td>\n",
       "      <td>6</td>\n",
       "      <td>...</td>\n",
       "      <td>1</td>\n",
       "      <td>16</td>\n",
       "      <td>21</td>\n",
       "      <td>21</td>\n",
       "      <td>3</td>\n",
       "      <td>1</td>\n",
       "      <td>1</td>\n",
       "      <td>0</td>\n",
       "      <td>5</td>\n",
       "      <td>0</td>\n",
       "    </tr>\n",
       "    <tr>\n",
       "      <th>76</th>\n",
       "      <td>minnesotas state parks are spread across the s...</td>\n",
       "      <td>English</td>\n",
       "      <td>77</td>\n",
       "      <td>5</td>\n",
       "      <td>27</td>\n",
       "      <td>19</td>\n",
       "      <td>68</td>\n",
       "      <td>5</td>\n",
       "      <td>10</td>\n",
       "      <td>22</td>\n",
       "      <td>...</td>\n",
       "      <td>0</td>\n",
       "      <td>59</td>\n",
       "      <td>64</td>\n",
       "      <td>65</td>\n",
       "      <td>11</td>\n",
       "      <td>4</td>\n",
       "      <td>7</td>\n",
       "      <td>3</td>\n",
       "      <td>4</td>\n",
       "      <td>2</td>\n",
       "    </tr>\n",
       "    <tr>\n",
       "      <th>90</th>\n",
       "      <td>nordahl road is a station served by north coun...</td>\n",
       "      <td>English</td>\n",
       "      <td>30</td>\n",
       "      <td>4</td>\n",
       "      <td>12</td>\n",
       "      <td>20</td>\n",
       "      <td>19</td>\n",
       "      <td>5</td>\n",
       "      <td>3</td>\n",
       "      <td>11</td>\n",
       "      <td>...</td>\n",
       "      <td>0</td>\n",
       "      <td>22</td>\n",
       "      <td>27</td>\n",
       "      <td>31</td>\n",
       "      <td>2</td>\n",
       "      <td>2</td>\n",
       "      <td>4</td>\n",
       "      <td>0</td>\n",
       "      <td>4</td>\n",
       "      <td>0</td>\n",
       "    </tr>\n",
       "  </tbody>\n",
       "</table>\n",
       "<p>5 rows × 28 columns</p>\n",
       "</div>"
      ],
      "text/plain": [
       "                                                 Text language   a  b   c   d  \\\n",
       "21  en navidad de  poco después de que interpretó ...  Spanish  24  1   8  12   \n",
       "37  in  johnson was awarded an american institute ...  English  16  1   9   5   \n",
       "40  bussy-saint-georges has built its identity on ...  English  15  2   6   8   \n",
       "76  minnesotas state parks are spread across the s...  English  77  5  27  19   \n",
       "90  nordahl road is a station served by north coun...  English  30  4  12  20   \n",
       "\n",
       "     e  f   g   h  ...  q   r   s   t   u  v  w  x  y  z  \n",
       "21  22  1   2   1  ...  2  13   6   5   6  2  0  0  1  0  \n",
       "37  20  3   2   8  ...  0  15   8  19   4  0  3  0  0  2  \n",
       "40  31  3   7   6  ...  1  16  21  21   3  1  1  0  5  0  \n",
       "76  68  5  10  22  ...  0  59  64  65  11  4  7  3  4  2  \n",
       "90  19  5   3  11  ...  0  22  27  31   2  2  4  0  4  0  \n",
       "\n",
       "[5 rows x 28 columns]"
      ]
     },
     "execution_count": 117,
     "metadata": {},
     "output_type": "execute_result"
    }
   ],
   "source": [
    "for i in range(ord('a'), ord('z')+1):\n",
    "    df[chr(i)] = df.Text.apply(lambda s: s.lower().count(chr(i)))\n",
    "df.head()"
   ]
  },
  {
   "cell_type": "markdown",
   "id": "762b8d0e",
   "metadata": {},
   "source": [
    "4. Plot the distribution letters in the entire set (corpus) by language"
   ]
  },
  {
   "cell_type": "code",
   "execution_count": 118,
   "id": "4f9847b1",
   "metadata": {},
   "outputs": [
    {
     "data": {
      "text/plain": [
       "<AxesSubplot:>"
      ]
     },
     "execution_count": 118,
     "metadata": {},
     "output_type": "execute_result"
    },
    {
     "data": {
      "image/png": "[encoded data removed]",
      "text/plain": [
       "<Figure size 432x288 with 1 Axes>"
      ]
     },
     "metadata": {
      "needs_background": "light"
     },
     "output_type": "display_data"
    }
   ],
   "source": [
    "df.groupby('language').mean().T.plot.bar(rot=0)"
   ]
  },
  {
   "cell_type": "markdown",
   "id": "980aaa61",
   "metadata": {},
   "source": [
    "5. Looks like we can use the characters as features (the distributions are different)"
   ]
  },
  {
   "cell_type": "code",
   "execution_count": 119,
   "id": "2de56e83",
   "metadata": {},
   "outputs": [],
   "source": [
    "X = df.iloc[:,2:] #take columns with counts\n",
    "y = df['language'].map({'English':1, 'Spanish':0}) #target column (encoded)"
   ]
  },
  {
   "cell_type": "code",
   "execution_count": 120,
   "id": "e6d025bb",
   "metadata": {},
   "outputs": [
    {
     "data": {
      "text/html": [
       "<div>\n",
       "<style scoped>\n",
       "    .dataframe tbody tr th:only-of-type {\n",
       "        vertical-align: middle;\n",
       "    }\n",
       "\n",
       "    .dataframe tbody tr th {\n",
       "        vertical-align: top;\n",
       "    }\n",
       "\n",
       "    .dataframe thead th {\n",
       "        text-align: right;\n",
       "    }\n",
       "</style>\n",
       "<table border=\"1\" class=\"dataframe\">\n",
       "  <thead>\n",
       "    <tr style=\"text-align: right;\">\n",
       "      <th></th>\n",
       "      <th>a</th>\n",
       "      <th>b</th>\n",
       "      <th>c</th>\n",
       "      <th>d</th>\n",
       "      <th>e</th>\n",
       "      <th>f</th>\n",
       "      <th>g</th>\n",
       "      <th>h</th>\n",
       "      <th>i</th>\n",
       "      <th>j</th>\n",
       "      <th>...</th>\n",
       "      <th>q</th>\n",
       "      <th>r</th>\n",
       "      <th>s</th>\n",
       "      <th>t</th>\n",
       "      <th>u</th>\n",
       "      <th>v</th>\n",
       "      <th>w</th>\n",
       "      <th>x</th>\n",
       "      <th>y</th>\n",
       "      <th>z</th>\n",
       "    </tr>\n",
       "  </thead>\n",
       "  <tbody>\n",
       "    <tr>\n",
       "      <th>21</th>\n",
       "      <td>24</td>\n",
       "      <td>1</td>\n",
       "      <td>8</td>\n",
       "      <td>12</td>\n",
       "      <td>22</td>\n",
       "      <td>1</td>\n",
       "      <td>2</td>\n",
       "      <td>1</td>\n",
       "      <td>11</td>\n",
       "      <td>0</td>\n",
       "      <td>...</td>\n",
       "      <td>2</td>\n",
       "      <td>13</td>\n",
       "      <td>6</td>\n",
       "      <td>5</td>\n",
       "      <td>6</td>\n",
       "      <td>2</td>\n",
       "      <td>0</td>\n",
       "      <td>0</td>\n",
       "      <td>1</td>\n",
       "      <td>0</td>\n",
       "    </tr>\n",
       "    <tr>\n",
       "      <th>37</th>\n",
       "      <td>16</td>\n",
       "      <td>1</td>\n",
       "      <td>9</td>\n",
       "      <td>5</td>\n",
       "      <td>20</td>\n",
       "      <td>3</td>\n",
       "      <td>2</td>\n",
       "      <td>8</td>\n",
       "      <td>17</td>\n",
       "      <td>1</td>\n",
       "      <td>...</td>\n",
       "      <td>0</td>\n",
       "      <td>15</td>\n",
       "      <td>8</td>\n",
       "      <td>19</td>\n",
       "      <td>4</td>\n",
       "      <td>0</td>\n",
       "      <td>3</td>\n",
       "      <td>0</td>\n",
       "      <td>0</td>\n",
       "      <td>2</td>\n",
       "    </tr>\n",
       "    <tr>\n",
       "      <th>40</th>\n",
       "      <td>15</td>\n",
       "      <td>2</td>\n",
       "      <td>6</td>\n",
       "      <td>8</td>\n",
       "      <td>31</td>\n",
       "      <td>3</td>\n",
       "      <td>7</td>\n",
       "      <td>6</td>\n",
       "      <td>14</td>\n",
       "      <td>0</td>\n",
       "      <td>...</td>\n",
       "      <td>1</td>\n",
       "      <td>16</td>\n",
       "      <td>21</td>\n",
       "      <td>21</td>\n",
       "      <td>3</td>\n",
       "      <td>1</td>\n",
       "      <td>1</td>\n",
       "      <td>0</td>\n",
       "      <td>5</td>\n",
       "      <td>0</td>\n",
       "    </tr>\n",
       "    <tr>\n",
       "      <th>76</th>\n",
       "      <td>77</td>\n",
       "      <td>5</td>\n",
       "      <td>27</td>\n",
       "      <td>19</td>\n",
       "      <td>68</td>\n",
       "      <td>5</td>\n",
       "      <td>10</td>\n",
       "      <td>22</td>\n",
       "      <td>48</td>\n",
       "      <td>2</td>\n",
       "      <td>...</td>\n",
       "      <td>0</td>\n",
       "      <td>59</td>\n",
       "      <td>64</td>\n",
       "      <td>65</td>\n",
       "      <td>11</td>\n",
       "      <td>4</td>\n",
       "      <td>7</td>\n",
       "      <td>3</td>\n",
       "      <td>4</td>\n",
       "      <td>2</td>\n",
       "    </tr>\n",
       "    <tr>\n",
       "      <th>90</th>\n",
       "      <td>30</td>\n",
       "      <td>4</td>\n",
       "      <td>12</td>\n",
       "      <td>20</td>\n",
       "      <td>19</td>\n",
       "      <td>5</td>\n",
       "      <td>3</td>\n",
       "      <td>11</td>\n",
       "      <td>32</td>\n",
       "      <td>0</td>\n",
       "      <td>...</td>\n",
       "      <td>0</td>\n",
       "      <td>22</td>\n",
       "      <td>27</td>\n",
       "      <td>31</td>\n",
       "      <td>2</td>\n",
       "      <td>2</td>\n",
       "      <td>4</td>\n",
       "      <td>0</td>\n",
       "      <td>4</td>\n",
       "      <td>0</td>\n",
       "    </tr>\n",
       "  </tbody>\n",
       "</table>\n",
       "<p>5 rows × 26 columns</p>\n",
       "</div>"
      ],
      "text/plain": [
       "     a  b   c   d   e  f   g   h   i  j  ...  q   r   s   t   u  v  w  x  y  z\n",
       "21  24  1   8  12  22  1   2   1  11  0  ...  2  13   6   5   6  2  0  0  1  0\n",
       "37  16  1   9   5  20  3   2   8  17  1  ...  0  15   8  19   4  0  3  0  0  2\n",
       "40  15  2   6   8  31  3   7   6  14  0  ...  1  16  21  21   3  1  1  0  5  0\n",
       "76  77  5  27  19  68  5  10  22  48  2  ...  0  59  64  65  11  4  7  3  4  2\n",
       "90  30  4  12  20  19  5   3  11  32  0  ...  0  22  27  31   2  2  4  0  4  0\n",
       "\n",
       "[5 rows x 26 columns]"
      ]
     },
     "execution_count": 120,
     "metadata": {},
     "output_type": "execute_result"
    }
   ],
   "source": [
    "X.head()"
   ]
  },
  {
   "cell_type": "code",
   "execution_count": 121,
   "id": "92fb45ab",
   "metadata": {},
   "outputs": [
    {
     "data": {
      "text/plain": [
       "21    0\n",
       "37    1\n",
       "40    1\n",
       "76    1\n",
       "90    1\n",
       "Name: language, dtype: int64"
      ]
     },
     "execution_count": 121,
     "metadata": {},
     "output_type": "execute_result"
    }
   ],
   "source": [
    "y.head()"
   ]
  },
  {
   "cell_type": "markdown",
   "id": "89fcea77",
   "metadata": {},
   "source": [
    "6. Normalize each line of X"
   ]
  },
  {
   "cell_type": "code",
   "execution_count": 122,
   "id": "70aeeb5c",
   "metadata": {},
   "outputs": [
    {
     "data": {
      "text/html": [
       "<div>\n",
       "<style scoped>\n",
       "    .dataframe tbody tr th:only-of-type {\n",
       "        vertical-align: middle;\n",
       "    }\n",
       "\n",
       "    .dataframe tbody tr th {\n",
       "        vertical-align: top;\n",
       "    }\n",
       "\n",
       "    .dataframe thead th {\n",
       "        text-align: right;\n",
       "    }\n",
       "</style>\n",
       "<table border=\"1\" class=\"dataframe\">\n",
       "  <thead>\n",
       "    <tr style=\"text-align: right;\">\n",
       "      <th></th>\n",
       "      <th>a</th>\n",
       "      <th>b</th>\n",
       "      <th>c</th>\n",
       "      <th>d</th>\n",
       "      <th>e</th>\n",
       "      <th>f</th>\n",
       "      <th>g</th>\n",
       "      <th>h</th>\n",
       "      <th>i</th>\n",
       "      <th>j</th>\n",
       "      <th>...</th>\n",
       "      <th>q</th>\n",
       "      <th>r</th>\n",
       "      <th>s</th>\n",
       "      <th>t</th>\n",
       "      <th>u</th>\n",
       "      <th>v</th>\n",
       "      <th>w</th>\n",
       "      <th>x</th>\n",
       "      <th>y</th>\n",
       "      <th>z</th>\n",
       "    </tr>\n",
       "  </thead>\n",
       "  <tbody>\n",
       "    <tr>\n",
       "      <th>21</th>\n",
       "      <td>0.146341</td>\n",
       "      <td>0.006098</td>\n",
       "      <td>0.048780</td>\n",
       "      <td>0.073171</td>\n",
       "      <td>0.134146</td>\n",
       "      <td>0.006098</td>\n",
       "      <td>0.012195</td>\n",
       "      <td>0.006098</td>\n",
       "      <td>0.067073</td>\n",
       "      <td>0.000000</td>\n",
       "      <td>...</td>\n",
       "      <td>0.012195</td>\n",
       "      <td>0.079268</td>\n",
       "      <td>0.036585</td>\n",
       "      <td>0.030488</td>\n",
       "      <td>0.036585</td>\n",
       "      <td>0.012195</td>\n",
       "      <td>0.000000</td>\n",
       "      <td>0.000000</td>\n",
       "      <td>0.006098</td>\n",
       "      <td>0.000000</td>\n",
       "    </tr>\n",
       "    <tr>\n",
       "      <th>37</th>\n",
       "      <td>0.096970</td>\n",
       "      <td>0.006061</td>\n",
       "      <td>0.054545</td>\n",
       "      <td>0.030303</td>\n",
       "      <td>0.121212</td>\n",
       "      <td>0.018182</td>\n",
       "      <td>0.012121</td>\n",
       "      <td>0.048485</td>\n",
       "      <td>0.103030</td>\n",
       "      <td>0.006061</td>\n",
       "      <td>...</td>\n",
       "      <td>0.000000</td>\n",
       "      <td>0.090909</td>\n",
       "      <td>0.048485</td>\n",
       "      <td>0.115152</td>\n",
       "      <td>0.024242</td>\n",
       "      <td>0.000000</td>\n",
       "      <td>0.018182</td>\n",
       "      <td>0.000000</td>\n",
       "      <td>0.000000</td>\n",
       "      <td>0.012121</td>\n",
       "    </tr>\n",
       "    <tr>\n",
       "      <th>40</th>\n",
       "      <td>0.069767</td>\n",
       "      <td>0.009302</td>\n",
       "      <td>0.027907</td>\n",
       "      <td>0.037209</td>\n",
       "      <td>0.144186</td>\n",
       "      <td>0.013953</td>\n",
       "      <td>0.032558</td>\n",
       "      <td>0.027907</td>\n",
       "      <td>0.065116</td>\n",
       "      <td>0.000000</td>\n",
       "      <td>...</td>\n",
       "      <td>0.004651</td>\n",
       "      <td>0.074419</td>\n",
       "      <td>0.097674</td>\n",
       "      <td>0.097674</td>\n",
       "      <td>0.013953</td>\n",
       "      <td>0.004651</td>\n",
       "      <td>0.004651</td>\n",
       "      <td>0.000000</td>\n",
       "      <td>0.023256</td>\n",
       "      <td>0.000000</td>\n",
       "    </tr>\n",
       "    <tr>\n",
       "      <th>76</th>\n",
       "      <td>0.115616</td>\n",
       "      <td>0.007508</td>\n",
       "      <td>0.040541</td>\n",
       "      <td>0.028529</td>\n",
       "      <td>0.102102</td>\n",
       "      <td>0.007508</td>\n",
       "      <td>0.015015</td>\n",
       "      <td>0.033033</td>\n",
       "      <td>0.072072</td>\n",
       "      <td>0.003003</td>\n",
       "      <td>...</td>\n",
       "      <td>0.000000</td>\n",
       "      <td>0.088589</td>\n",
       "      <td>0.096096</td>\n",
       "      <td>0.097598</td>\n",
       "      <td>0.016517</td>\n",
       "      <td>0.006006</td>\n",
       "      <td>0.010511</td>\n",
       "      <td>0.004505</td>\n",
       "      <td>0.006006</td>\n",
       "      <td>0.003003</td>\n",
       "    </tr>\n",
       "    <tr>\n",
       "      <th>90</th>\n",
       "      <td>0.100671</td>\n",
       "      <td>0.013423</td>\n",
       "      <td>0.040268</td>\n",
       "      <td>0.067114</td>\n",
       "      <td>0.063758</td>\n",
       "      <td>0.016779</td>\n",
       "      <td>0.010067</td>\n",
       "      <td>0.036913</td>\n",
       "      <td>0.107383</td>\n",
       "      <td>0.000000</td>\n",
       "      <td>...</td>\n",
       "      <td>0.000000</td>\n",
       "      <td>0.073826</td>\n",
       "      <td>0.090604</td>\n",
       "      <td>0.104027</td>\n",
       "      <td>0.006711</td>\n",
       "      <td>0.006711</td>\n",
       "      <td>0.013423</td>\n",
       "      <td>0.000000</td>\n",
       "      <td>0.013423</td>\n",
       "      <td>0.000000</td>\n",
       "    </tr>\n",
       "  </tbody>\n",
       "</table>\n",
       "<p>5 rows × 26 columns</p>\n",
       "</div>"
      ],
      "text/plain": [
       "           a         b         c         d         e         f         g  \\\n",
       "21  0.146341  0.006098  0.048780  0.073171  0.134146  0.006098  0.012195   \n",
       "37  0.096970  0.006061  0.054545  0.030303  0.121212  0.018182  0.012121   \n",
       "40  0.069767  0.009302  0.027907  0.037209  0.144186  0.013953  0.032558   \n",
       "76  0.115616  0.007508  0.040541  0.028529  0.102102  0.007508  0.015015   \n",
       "90  0.100671  0.013423  0.040268  0.067114  0.063758  0.016779  0.010067   \n",
       "\n",
       "           h         i         j  ...         q         r         s         t  \\\n",
       "21  0.006098  0.067073  0.000000  ...  0.012195  0.079268  0.036585  0.030488   \n",
       "37  0.048485  0.103030  0.006061  ...  0.000000  0.090909  0.048485  0.115152   \n",
       "40  0.027907  0.065116  0.000000  ...  0.004651  0.074419  0.097674  0.097674   \n",
       "76  0.033033  0.072072  0.003003  ...  0.000000  0.088589  0.096096  0.097598   \n",
       "90  0.036913  0.107383  0.000000  ...  0.000000  0.073826  0.090604  0.104027   \n",
       "\n",
       "           u         v         w         x         y         z  \n",
       "21  0.036585  0.012195  0.000000  0.000000  0.006098  0.000000  \n",
       "37  0.024242  0.000000  0.018182  0.000000  0.000000  0.012121  \n",
       "40  0.013953  0.004651  0.004651  0.000000  0.023256  0.000000  \n",
       "76  0.016517  0.006006  0.010511  0.004505  0.006006  0.003003  \n",
       "90  0.006711  0.006711  0.013423  0.000000  0.013423  0.000000  \n",
       "\n",
       "[5 rows x 26 columns]"
      ]
     },
     "execution_count": 122,
     "metadata": {},
     "output_type": "execute_result"
    }
   ],
   "source": [
    "X = X.div(X.sum(axis=1), axis=0)\n",
    "X.head()"
   ]
  },
  {
   "cell_type": "markdown",
   "id": "e40bdad2",
   "metadata": {},
   "source": [
    "7. Split the data into Train and Test sets"
   ]
  },
  {
   "cell_type": "code",
   "execution_count": 123,
   "id": "183baf94",
   "metadata": {},
   "outputs": [],
   "source": [
    "X_train, X_test, y_train, y_test \\\n",
    "= train_test_split(X, y, test_size=0.33, random_state=42)"
   ]
  },
  {
   "cell_type": "markdown",
   "id": "d7f45ac7",
   "metadata": {},
   "source": [
    "8. Use any model for classiffication"
   ]
  },
  {
   "cell_type": "code",
   "execution_count": 124,
   "id": "dc658552",
   "metadata": {},
   "outputs": [],
   "source": [
    "sgd_clf = SGDClassifier(max_iter=1000, tol=1e-3, random_state=42)"
   ]
  },
  {
   "cell_type": "markdown",
   "id": "31937202",
   "metadata": {},
   "source": [
    "9. Look at the performance of the model using cross validation, i.e., using one part of Train set for testing"
   ]
  },
  {
   "cell_type": "code",
   "execution_count": 125,
   "id": "f075601a",
   "metadata": {},
   "outputs": [
    {
     "data": {
      "text/plain": [
       "0.9776119402985074"
      ]
     },
     "execution_count": 125,
     "metadata": {},
     "output_type": "execute_result"
    }
   ],
   "source": [
    "cross_val_score(sgd_clf, X_train, y_train, cv=5, scoring=\"accuracy\").mean()"
   ]
  },
  {
   "cell_type": "markdown",
   "id": "66511104",
   "metadata": {},
   "source": [
    "10. Use all Train data to fit the model"
   ]
  },
  {
   "cell_type": "code",
   "execution_count": 126,
   "id": "de734d37",
   "metadata": {},
   "outputs": [
    {
     "data": {
      "text/plain": [
       "SGDClassifier(random_state=42)"
      ]
     },
     "execution_count": 126,
     "metadata": {},
     "output_type": "execute_result"
    }
   ],
   "source": [
    "sgd_clf.fit(X_train, y_train)"
   ]
  },
  {
   "cell_type": "markdown",
   "id": "02e79d19",
   "metadata": {},
   "source": [
    "11. Do prediction on the Test"
   ]
  },
  {
   "cell_type": "code",
   "execution_count": 127,
   "id": "2f91fe24",
   "metadata": {},
   "outputs": [],
   "source": [
    "y_predict = sgd_clf.predict(X_test)"
   ]
  },
  {
   "cell_type": "markdown",
   "id": "1afbd5e0",
   "metadata": {},
   "source": [
    "12. Calculate the accuracy on the Test  "
   ]
  },
  {
   "cell_type": "code",
   "execution_count": 128,
   "id": "07efc9e0",
   "metadata": {},
   "outputs": [
    {
     "data": {
      "text/plain": [
       "0.9681818181818181"
      ]
     },
     "execution_count": 128,
     "metadata": {},
     "output_type": "execute_result"
    }
   ],
   "source": [
    "sgd_clf.score(X_test,y_test)"
   ]
  },
  {
   "cell_type": "markdown",
   "id": "3ce132d8",
   "metadata": {},
   "source": [
    "13. Calculate the confusion matrix"
   ]
  },
  {
   "cell_type": "code",
   "execution_count": 129,
   "id": "a37f374d",
   "metadata": {},
   "outputs": [
    {
     "data": {
      "text/plain": [
       "array([[303,  19],\n",
       "       [  2, 336]])"
      ]
     },
     "execution_count": 129,
     "metadata": {},
     "output_type": "execute_result"
    }
   ],
   "source": [
    "CM = confusion_matrix(y_test, y_predict)\n",
    "CM"
   ]
  },
  {
   "cell_type": "code",
   "execution_count": 130,
   "id": "9b937553",
   "metadata": {},
   "outputs": [
    {
     "data": {
      "text/plain": [
       "<sklearn.metrics._plot.confusion_matrix.ConfusionMatrixDisplay at 0x7fc2032c9700>"
      ]
     },
     "execution_count": 130,
     "metadata": {},
     "output_type": "execute_result"
    },
    {
     "data": {
      "image/png": "[encoded data removed]",
      "text/plain": [
       "<Figure size 432x288 with 2 Axes>"
      ]
     },
     "metadata": {
      "needs_background": "light"
     },
     "output_type": "display_data"
    }
   ],
   "source": [
    "plot_confusion_matrix(sgd_clf, X_test, y_test) #fancier way"
   ]
  },
  {
   "cell_type": "code",
   "execution_count": 131,
   "id": "ea81637d",
   "metadata": {},
   "outputs": [
    {
     "data": {
      "text/markdown": [
       "That means, our model predicted 2 English phrases as Spanish (Fals Negative)   and 19 Spanish phrases as English (Fals Positive). Therefore,  $Presision = 336/(336+19)= 0.9464788732394366$ and  $Recall = 336/(336+2)= 0.9940828402366864$"
      ],
      "text/plain": [
       "<IPython.core.display.Markdown object>"
      ]
     },
     "execution_count": 131,
     "metadata": {},
     "output_type": "execute_result"
    }
   ],
   "source": [
    "from IPython.display import Markdown as md\n",
    "md(f\"That means, our model predicted {CM[1,0]} English phrases as Spanish (Fals Negative) \\\n",
    "  and {CM[0,1]} Spanish phrases as English (Fals Positive). Therefore,\\\n",
    "  $Presision = {CM[1,1]}/({CM[1,1]}+{CM[0,1]})= {CM[1,1]/(CM[1,1]+CM[0,1])}$ and\\\n",
    "  $Recall = {CM[1,1]}/({CM[1,1]}+{CM[1,0]})= {CM[1,1]/(CM[1,1]+CM[1,0])}$\") "
   ]
  },
  {
   "cell_type": "markdown",
   "id": "8233c00a",
   "metadata": {},
   "source": [
    "14. For this task, accuracy (the fraction of correct predictions) is a good metric for the quality evaluation, but other metrics like precision can be used as well."
   ]
  },
  {
   "cell_type": "code",
   "execution_count": null,
   "id": "39a18705",
   "metadata": {},
   "outputs": [],
   "source": []
  }
 ],
 "metadata": {
  "kernelspec": {
   "display_name": "Python 3 (ipykernel)",
   "language": "python",
   "name": "python3"
  },
  "language_info": {
   "codemirror_mode": {
    "name": "ipython",
    "version": 3
   },
   "file_extension": ".py",
   "mimetype": "text/x-python",
   "name": "python",
   "nbconvert_exporter": "python",
   "pygments_lexer": "ipython3",
   "version": "3.9.7"
  }
 },
 "nbformat": 4,
 "nbformat_minor": 5
}
